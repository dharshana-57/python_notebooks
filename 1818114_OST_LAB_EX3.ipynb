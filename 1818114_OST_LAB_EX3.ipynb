{
  "nbformat": 4,
  "nbformat_minor": 0,
  "metadata": {
    "colab": {
      "name": "1818114_OST_LAB_EX3.ipynb",
      "provenance": [],
      "collapsed_sections": []
    },
    "kernelspec": {
      "name": "python3",
      "display_name": "Python 3"
    }
  },
  "cells": [
    {
      "cell_type": "markdown",
      "metadata": {
        "id": "pJH7vITK5OLd"
      },
      "source": [
        "3 a. Write a python script to sort n numbers using lists without using built-in functions."
      ]
    },
    {
      "cell_type": "code",
      "metadata": {
        "colab": {
          "base_uri": "https://localhost:8080/"
        },
        "id": "wZP4rEze-dbG",
        "outputId": "37839058-12ea-4b82-b3b4-25946a255440"
      },
      "source": [
        "unsorted_list = []\n",
        "sorted_list = []\n",
        "n = int(input(\"Enter no. of elements in list:\"))\n",
        "\n",
        "for i in range(n):\n",
        "  inp = int(input(\"enter no:\"))\n",
        "  unsorted_list.append(inp)\n",
        "\n",
        "while unsorted_list:\n",
        "    minimum = unsorted_list[0]\n",
        "    for item in unsorted_list:\n",
        "        if item < minimum:\n",
        "            minimum = item\n",
        "    sorted_list.append(minimum)\n",
        "    unsorted_list.remove(minimum)\n",
        "\n",
        "print(sorted_list)"
      ],
      "execution_count": null,
      "outputs": [
        {
          "output_type": "stream",
          "text": [
            "Enter no. of elements in list:7\n",
            "enter no:45\n",
            "enter no:89\n",
            "enter no:12\n",
            "enter no:80\n",
            "enter no:2\n",
            "enter no:90\n",
            "enter no:23\n",
            "[2, 12, 23, 45, 80, 89, 90]\n"
          ],
          "name": "stdout"
        }
      ]
    },
    {
      "cell_type": "markdown",
      "metadata": {
        "id": "sMcvqj1T5cfG"
      },
      "source": [
        "3 b. Write a python script to accept a list with different datatypes - int, string and float(heterogeneous) and partition it into 3 lists each of which contains same data types(homogeneous)"
      ]
    },
    {
      "cell_type": "code",
      "metadata": {
        "colab": {
          "base_uri": "https://localhost:8080/"
        },
        "id": "eJ86b2t6HKOX",
        "outputId": "4f90e081-d741-45d3-eb00-e408e3284e7e"
      },
      "source": [
        "test_list = ['sort', 78, 2.89 , 'praise', 'world', '7.0', 3.0, 1.0, 9] \n",
        "\n",
        "print(\"The original list : \" + str(test_list)) \n",
        "  \n",
        "str_type= [ele for ele in test_list if isinstance(ele, str)] \n",
        "int_type= [ele for ele in test_list if isinstance(ele, int)] \n",
        "float_type= [ele for ele in test_list if isinstance(ele, float)] \n",
        "# printing result \n",
        "print(\"Integer list : \" + str(int_type)) \n",
        "print(\"String list : \" + str(str_type)) \n",
        "print(\"lists of float datatype : \" +str(float_type))"
      ],
      "execution_count": null,
      "outputs": [
        {
          "output_type": "stream",
          "text": [
            "The original list : ['sort', 78, 2.89, 'praise', 'world', '7.0', 3.0, 1.0, 9]\n",
            "Integer list : [78, 9]\n",
            "String list : ['sort', 'praise', 'world', '7.0']\n",
            "lists of float datatype : [2.89, 3.0, 1.0]\n"
          ],
          "name": "stdout"
        }
      ]
    },
    {
      "cell_type": "markdown",
      "metadata": {
        "id": "8maWdK5R5lyu"
      },
      "source": [
        "3 d. Write a python script to create a tuple containing both odd and even numbers. Divide the tuple into two each of which contains odd numbers and even numbers."
      ]
    },
    {
      "cell_type": "code",
      "metadata": {
        "colab": {
          "base_uri": "https://localhost:8080/"
        },
        "id": "oAViutdjJH-A",
        "outputId": "9af69bb0-0d5e-4ccb-9169-c1b8c8a79fb0"
      },
      "source": [
        "combined_tuple = (11, 82, 34, 95, 43, 200,  251 )\n",
        "list1 = []\n",
        "list2 = []\n",
        "for i in combined_tuple:\n",
        "  if i%2 == 0:\n",
        "    list1.append(i)\n",
        "  if i % 2 != 0:\n",
        "   list2.append(i)\n",
        "\n",
        "\n",
        "print(\"even lists :\",tuple(list1))\n",
        "print(\"odd lists :\" ,tuple(list2))"
      ],
      "execution_count": null,
      "outputs": [
        {
          "output_type": "stream",
          "text": [
            "even lists : (82, 34, 200)\n",
            "odd lists : (11, 95, 43, 251)\n"
          ],
          "name": "stdout"
        }
      ]
    },
    {
      "cell_type": "markdown",
      "metadata": {
        "id": "TyWWou415iF_"
      },
      "source": [
        "3 c. Write a python script to create a dictionary of minimum five key/value pairs. Implement search, modification and removal of elements from the dictionary."
      ]
    },
    {
      "cell_type": "code",
      "metadata": {
        "id": "EQxCBZeeL8a4",
        "colab": {
          "base_uri": "https://localhost:8080/"
        },
        "outputId": "ddf2b6f6-6d22-4ef6-944c-bb43cb74b45a"
      },
      "source": [
        "mydict = {}\n",
        "for i in range(5):\n",
        "    key = input(\"Enter key:\")\n",
        " \n",
        "    value = input(\"Enter value:\")\n",
        "    mydict[key] = value\n",
        " \n",
        "print(mydict)\n",
        "print(\"Dictionary operations:\")\n",
        "print(\"1.Search\\n2.Modification\\n3.Removal\\n4.View Dictionary\")\n",
        "e = 1\n",
        "while e == 1:\n",
        "  c = int(input(\"Enter choice:\"))\n",
        "  if c == 1:\n",
        "    search = input(\"enter search item:\")\n",
        "    for i in mydict.keys():\n",
        "      if i == search:\n",
        "        print(i,\" is present!Its value is \",mydict.get(i))\n",
        "        break\n",
        "    else:\n",
        "      print(search,\" not found!\")\n",
        " \n",
        "  elif c == 2:\n",
        "    m_item = input(\"enter key to modify its value:\")\n",
        "    for i in mydict.keys():\n",
        "      if i == m_item:\n",
        "        new_value = input(\"enter new value:\")\n",
        "        mydict[i] = new_value\n",
        "        break\n",
        "    else:\n",
        "      print(m_item,\" not found!\")\n",
        " \n",
        "  elif c == 3:\n",
        "    del_key = input(\"enter key to delete:\")\n",
        "    for i in mydict.keys():\n",
        "      if i == del_key:\n",
        "        print(i,\" key deleted!\")\n",
        "        del mydict[del_key]\n",
        "        break\n",
        "    else:\n",
        "      print(del_key,\"not found!\")\n",
        " \n",
        "  elif c == 4:\n",
        "    print(mydict)\n",
        " \n",
        "  e = int(input(\"enter 1 to continue.. :\"))"
      ],
      "execution_count": null,
      "outputs": [
        {
          "output_type": "stream",
          "text": [
            "Enter key:1\n",
            "Enter value:hello\n",
            "Enter key:2\n",
            "Enter value:hurray\n",
            "Enter key:3\n",
            "Enter value:cheese\n",
            "Enter key:4\n",
            "Enter value:yipee\n",
            "Enter key:5\n",
            "Enter value:yummy\n",
            "{'1': 'hello', '2': 'hurray', '3': 'cheese', '4': 'yipee', '5': 'yummy'}\n",
            "Dictionary operations:\n",
            "1.Search\n",
            "2.Modification\n",
            "3.Removal\n",
            "4.View Dictionary\n",
            "Enter choice:1\n",
            "enter search item:3\n",
            "3  is present!Its value is  cheese\n",
            "enter 1 to continue.. :1\n",
            "Enter choice:1\n",
            "enter search item:8\n",
            "8  not found!\n",
            "enter 1 to continue.. :1\n",
            "Enter choice:2\n",
            "enter key to modify its value:3\n",
            "enter new value:cheers\n",
            "enter 1 to continue.. :1\n",
            "Enter choice:4\n",
            "{'1': 'hello', '2': 'hurray', '3': 'cheers', '4': 'yipee', '5': 'yummy'}\n",
            "enter 1 to continue.. :1\n",
            "Enter choice:2\n",
            "enter key to modify its value:9\n",
            "9  not found!\n",
            "enter 1 to continue.. :1\n",
            "Enter choice:3\n",
            "enter key to delete:4\n",
            "4  key deleted!\n",
            "enter 1 to continue.. :1\n",
            "Enter choice:4\n",
            "{'1': 'hello', '2': 'hurray', '3': 'cheers', '5': 'yummy'}\n",
            "enter 1 to continue.. :1\n",
            "Enter choice:3\n",
            "enter key to delete:8\n",
            "8 not found!\n",
            "enter 1 to continue.. :4\n"
          ],
          "name": "stdout"
        }
      ]
    }
  ]
}