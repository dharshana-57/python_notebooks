{
 "cells": [
  {
   "cell_type": "code",
   "execution_count": 1,
   "metadata": {
    "tags": []
   },
   "outputs": [
    {
     "name": "stdout",
     "output_type": "stream",
     "text": [
      "3.567\n",
      "<class 'float'>\n",
      "3.567\n"
     ]
    }
   ],
   "source": [
    "x = 3.567\n",
    "print(x)\n",
    "print(type(x))\n",
    "print(str(x))"
   ]
  },
  {
   "cell_type": "code",
   "execution_count": 2,
   "metadata": {
    "tags": []
   },
   "outputs": [
    {
     "name": "stdout",
     "output_type": "stream",
     "text": [
      "0\n",
      "1\n",
      "2\n",
      "3\n",
      "4\n",
      "5\n",
      "6\n",
      "7\n",
      "8\n",
      "9\n"
     ]
    }
   ],
   "source": [
    "count = 0\n",
    "while count < 10:\n",
    "    print(count)\n",
    "    count+=1 #augumented operator"
   ]
  },
  {
   "cell_type": "code",
   "execution_count": 3,
   "metadata": {
    "tags": []
   },
   "outputs": [
    {
     "name": "stdout",
     "output_type": "stream",
     "text": [
      "inside loop\n",
      "Do you want to continue?y\n",
      "inside loop\n",
      "Do you want to continue?n\n",
      "outside loop\n"
     ]
    }
   ],
   "source": [
    "#controlling loop with user confirmation\n",
    "con_loop = 'y'\n",
    "while con_loop == 'y':\n",
    "    print(\"inside loop\")\n",
    "    con_loop = input(\"Do you want to continue?\")\n",
    "print(\"outside loop\")"
   ]
  },
  {
   "cell_type": "code",
   "execution_count": 4,
   "metadata": {
    "tags": []
   },
   "outputs": [
    {
     "name": "stdout",
     "output_type": "stream",
     "text": [
      "enter an integer, to end press 0:4\n",
      "enter an int, press 0 to end5\n",
      "enter an int, press 0 to end0\n",
      "sum is 9\n"
     ]
    }
   ],
   "source": [
    "# controlling loop with sentinel value\n",
    "data = int(input(\"enter an integer, to end press 0:\"))\n",
    "sum = 0\n",
    "while data != 0:\n",
    "    sum += data\n",
    "    data = int(input(\"enter an int, press 0 to end\"))\n",
    "print(\"sum is\",sum)"
   ]
  },
  {
   "cell_type": "code",
   "execution_count": 5,
   "metadata": {
    "tags": []
   },
   "outputs": [
    {
     "name": "stdout",
     "output_type": "stream",
     "text": [
      "Enter a Number:45\n",
      "45 = Odd Number\n"
     ]
    }
   ],
   "source": [
    "x = int(input(\"Enter a Number:\"))\n",
    "r = \"Even Number\" if x%2 == 0 else \"Odd Number\"\n",
    "print(x,\"=\",r)"
   ]
  },
  {
   "cell_type": "code",
   "execution_count": 6,
   "metadata": {
    "tags": []
   },
   "outputs": [
    {
     "name": "stdout",
     "output_type": "stream",
     "text": [
      "1\n",
      "3\n",
      "5\n",
      "7\n",
      "9\n",
      "11\n",
      "13\n",
      "15\n",
      "17\n",
      "19\n"
     ]
    }
   ],
   "source": [
    "for i in range(1, 20, 2):\n",
    "    print(i)"
   ]
  },
  {
   "cell_type": "code",
   "execution_count": 7,
   "metadata": {
    "tags": []
   },
   "outputs": [
    {
     "name": "stdout",
     "output_type": "stream",
     "text": [
      "1\n",
      "7\n",
      "13\n",
      "19\n"
     ]
    }
   ],
   "source": [
    "for i in range(1, 20,6):\n",
    "    print(i)"
   ]
  },
  {
   "cell_type": "code",
   "execution_count": 1,
   "metadata": {
    "tags": []
   },
   "outputs": [
    {
     "name": "stdout",
     "output_type": "stream",
     "text": [
      "enter 2 no: 45,89\n",
      "89  is greater\n"
     ]
    }
   ],
   "source": [
    "#functions\n",
    "#def fun.name:\n",
    "#   fun.body\n",
    "def max1(d1,d2):\n",
    "    if d1>d2:\n",
    "        return d1\n",
    "    else:\n",
    "        return d2\n",
    "\n",
    "s,t = eval(input(\"enter 2 no: \"))\n",
    "result = max1(s,t) \n",
    "print(result, \" is greater\")"
   ]
  },
  {
   "cell_type": "code",
   "execution_count": 3,
   "metadata": {
    "tags": []
   },
   "outputs": [
    {
     "name": "stdout",
     "output_type": "stream",
     "text": [
      "10  is greater\n"
     ]
    }
   ],
   "source": [
    "# positional argument & keyword argument\n",
    "def max1(n1,n2):\n",
    "    if n1>n2:\n",
    "        return n1\n",
    "    else:\n",
    "        return n2\n",
    "\n",
    "result2 = max1(n1=7, n2=10)  # assigning values to keyword itself \n",
    "print(result2, \" is greater\")\n"
   ]
  },
  {
   "cell_type": "code",
   "execution_count": null,
   "metadata": {
    "tags": []
   },
   "outputs": [],
   "source": [
    "print(\"Today is good day\")\n"
   ]
  },
  {
   "cell_type": "code",
   "execution_count": 9,
   "metadata": {
    "tags": []
   },
   "outputs": [
    {
     "name": "stdout",
     "output_type": "stream",
     "text": [
      " \n",
      " 2 \n",
      " 2 4 \n",
      " 2 4 8 \n",
      " 2 4 8 16 \n",
      " 2 4 8 16 32 \n"
     ]
    }
   ],
   "source": [
    "def main():\n",
    "    #homework\n",
    "    i=1\n",
    "    while i<=6:\n",
    "        print(func(i,2))\n",
    "        i+=1\n",
    "def func(i, num):\n",
    "    line = \" \"\n",
    "    for j in range(1, i):\n",
    "        line += str(num) + \" \"\n",
    "        num *= 2\n",
    "    return line\n",
    "main()"
   ]
  },
  {
   "cell_type": "code",
   "execution_count": 10,
   "metadata": {
    "tags": []
   },
   "outputs": [
    {
     "name": "stdout",
     "output_type": "stream",
     "text": [
      "3 4\n"
     ]
    }
   ],
   "source": [
    "\n",
    "#Scope of variables\n",
    "#Global variables, Local variables\n",
    "#returning multiple values\n",
    "def sort(num1, num2):\n",
    "    if num1<num2:\n",
    "        return num1, num2\n",
    "    else:\n",
    "        return num2, num1\n",
    "\n",
    "n1,n2 = sort(4,3)\n",
    "print(n1,n2)\n"
   ]
  },
  {
   "cell_type": "code",
   "execution_count": null,
   "metadata": {},
   "outputs": [],
   "source": [
    "#lists mutable, use[]\n",
    "#lists = [3,\"god\",9.78] operations:\n",
    "#in - element in listname (x in s) = true if x is in s\n",
    "#not - element not in listname (x not in s) = true if not present in lists b bn\n",
    "# +  = list1 + list2 =concatenation of 2 lists\n",
    "# * = listname * count  = gives copies of count that will be concatenated in list eg: s=[1,2]; 2*s => [1,2,1,2]\n",
    "# : = listname[i:j] (identify sublist for give lists) => SLICING (both +ve  & -ve index)\n"
   ]
  },
  {
   "cell_type": "code",
   "execution_count": 11,
   "metadata": {
    "tags": []
   },
   "outputs": [
    {
     "name": "stdout",
     "output_type": "stream",
     "text": [
      "[4, 5, 6, 7]\n",
      "[2, 4, 6]\n"
     ]
    }
   ],
   "source": [
    "s = [2, 3, 4, 5, 6, 7]\n",
    "print(s[2:])\n",
    "print(s[0:5:2]) #step value is possible in slicing of lists"
   ]
  },
  {
   "cell_type": "code",
   "execution_count": 12,
   "metadata": {},
   "outputs": [
    {
     "data": {
      "text/plain": [
       "True"
      ]
     },
     "execution_count": 12,
     "metadata": {},
     "output_type": "execute_result"
    }
   ],
   "source": [
    "5 in s"
   ]
  },
  {
   "cell_type": "code",
   "execution_count": 13,
   "metadata": {},
   "outputs": [
    {
     "data": {
      "text/plain": [
       "True"
      ]
     },
     "execution_count": 13,
     "metadata": {},
     "output_type": "execute_result"
    }
   ],
   "source": [
    "9 not in s"
   ]
  },
  {
   "cell_type": "code",
   "execution_count": 14,
   "metadata": {
    "tags": []
   },
   "outputs": [
    {
     "name": "stdout",
     "output_type": "stream",
     "text": [
      "[2, 3, 4, 5, 6, 7, 8, 9]\n"
     ]
    }
   ],
   "source": [
    "s1 = [8, 9]\n",
    "s2 = s + s1\n",
    "print(s2)"
   ]
  },
  {
   "cell_type": "code",
   "execution_count": 15,
   "metadata": {
    "tags": []
   },
   "outputs": [
    {
     "name": "stdout",
     "output_type": "stream",
     "text": [
      "[2, 3, 4, 5, 6, 7, 2, 3, 4, 5, 6, 7]\n"
     ]
    }
   ],
   "source": [
    "print(2*s)"
   ]
  },
  {
   "cell_type": "code",
   "execution_count": 16,
   "metadata": {
    "tags": []
   },
   "outputs": [
    {
     "name": "stdout",
     "output_type": "stream",
     "text": [
      "[4, 5, 6]\n"
     ]
    }
   ],
   "source": [
    "print(s[-4:-1])"
   ]
  },
  {
   "cell_type": "code",
   "execution_count": 17,
   "metadata": {
    "tags": []
   },
   "outputs": [
    {
     "name": "stdout",
     "output_type": "stream",
     "text": [
      "[3, 4]\n"
     ]
    }
   ],
   "source": [
    "print(s[1:-3])"
   ]
  },
  {
   "cell_type": "code",
   "execution_count": 18,
   "metadata": {
    "tags": []
   },
   "outputs": [
    {
     "name": "stdout",
     "output_type": "stream",
     "text": [
      "2\n",
      "3\n",
      "4\n",
      "5\n",
      "6\n",
      "7\n"
     ]
    }
   ],
   "source": [
    "#len(listname) #min(listname)\n",
    "#max(listname) #sum(listname)\n",
    "for i in s:\n",
    "    print(i)"
   ]
  },
  {
   "cell_type": "code",
   "execution_count": 19,
   "metadata": {
    "tags": []
   },
   "outputs": [
    {
     "name": "stdout",
     "output_type": "stream",
     "text": [
      "hello\n"
     ]
    }
   ],
   "source": [
    "print(\"hello\")"
   ]
  },
  {
   "cell_type": "code",
   "execution_count": 20,
   "metadata": {},
   "outputs": [
    {
     "data": {
      "text/plain": [
       "True"
      ]
     },
     "execution_count": 20,
     "metadata": {},
     "output_type": "execute_result"
    }
   ],
   "source": [
    "#comparing list - lexicographical ordering \n",
    "l1 = [\"green\", \"red\", \"blue\"]\n",
    "l2 = [\"red\", \"green\", \"blue\"]\n",
    "l2>l1"
   ]
  },
  {
   "cell_type": "code",
   "execution_count": 21,
   "metadata": {},
   "outputs": [
    {
     "data": {
      "text/plain": [
       "[0, 1, 2, 3, 4]"
      ]
     },
     "execution_count": 21,
     "metadata": {},
     "output_type": "execute_result"
    }
   ],
   "source": [
    "#list comprehension\n",
    "#sq bracket,expression followed by for , or more if/for classes\n",
    "list1 = [x for x in range(5)]\n",
    "list1"
   ]
  },
  {
   "cell_type": "code",
   "execution_count": 22,
   "metadata": {},
   "outputs": [
    {
     "data": {
      "text/plain": [
       "[0, 1, 2, 3]"
      ]
     },
     "execution_count": 22,
     "metadata": {},
     "output_type": "execute_result"
    }
   ],
   "source": [
    "list2 = [x for x in list1 if x <= 3] #x before for is an expression\n",
    "list2"
   ]
  },
  {
   "cell_type": "code",
   "execution_count": 23,
   "metadata": {},
   "outputs": [],
   "source": [
    "# methods in lists:\n",
    "# append - listname.append(value)\n",
    "# count - listname.count()\n",
    "# extend - listname.extend(value)\n",
    "# index - ...\n",
    "# insert - listname.insert(index,value)\n",
    "# pop - pop(listname)\n",
    "# remove - remove(value)\n",
    "# reverse - listname.reverse()\n",
    "# sort - sort()"
   ]
  },
  {
   "cell_type": "code",
   "execution_count": 24,
   "metadata": {},
   "outputs": [
    {
     "data": {
      "text/plain": [
       "(2, 4, 6, 8)"
      ]
     },
     "execution_count": 24,
     "metadata": {},
     "output_type": "execute_result"
    }
   ],
   "source": [
    "#tuple - immutable, use ()\n",
    "# tuple <=> list //comprehension\n",
    "t1 = ()\n",
    "t2 = (1, 3, 5, 6)\n",
    "t3 = tuple([2*x for x in range(1,5)])\n",
    "t3"
   ]
  },
  {
   "cell_type": "code",
   "execution_count": 25,
   "metadata": {},
   "outputs": [
    {
     "data": {
      "text/plain": [
       "()"
      ]
     },
     "execution_count": 25,
     "metadata": {},
     "output_type": "execute_result"
    }
   ],
   "source": [
    "t1"
   ]
  },
  {
   "cell_type": "code",
   "execution_count": 26,
   "metadata": {},
   "outputs": [
    {
     "data": {
      "text/plain": [
       "(1, 3, 5, 6)"
      ]
     },
     "execution_count": 26,
     "metadata": {},
     "output_type": "execute_result"
    }
   ],
   "source": [
    "t2"
   ]
  },
  {
   "cell_type": "code",
   "execution_count": 2,
   "metadata": {},
   "outputs": [],
   "source": [
    "x = [1,2,3]"
   ]
  },
  {
   "cell_type": "code",
   "execution_count": 3,
   "metadata": {},
   "outputs": [
    {
     "data": {
      "text/plain": [
       "(1, 2, 3)"
      ]
     },
     "execution_count": 3,
     "metadata": {},
     "output_type": "execute_result"
    }
   ],
   "source": [
    "tuple(x)"
   ]
  },
  {
   "cell_type": "code",
   "execution_count": null,
   "metadata": {},
   "outputs": [],
   "source": []
  }
 ],
 "metadata": {
  "kernelspec": {
   "display_name": "Python 3",
   "language": "python",
   "name": "python3"
  },
  "language_info": {
   "codemirror_mode": {
    "name": "ipython",
    "version": 3
   },
   "file_extension": ".py",
   "mimetype": "text/x-python",
   "name": "python",
   "nbconvert_exporter": "python",
   "pygments_lexer": "ipython3",
   "version": "3.8.5"
  }
 },
 "nbformat": 4,
 "nbformat_minor": 2
}
