{
  "nbformat": 4,
  "nbformat_minor": 0,
  "metadata": {
    "colab": {
      "name": "1818114_OST_LAB_EX4.ipynb",
      "provenance": [],
      "collapsed_sections": []
    },
    "kernelspec": {
      "name": "python3",
      "display_name": "Python 3"
    }
  },
  "cells": [
    {
      "cell_type": "markdown",
      "metadata": {
        "id": "lsFstjEg7sFJ"
      },
      "source": [
        "4 a.\tWrite a Python program to count the occurrences of each word in a given sentence."
      ]
    },
    {
      "cell_type": "code",
      "metadata": {
        "id": "uPeAh2SLjSY0",
        "colab": {
          "base_uri": "https://localhost:8080/"
        },
        "outputId": "fa383a7d-8319-4dd0-cc77-b81e52c6f7d6"
      },
      "source": [
        "def word_count(str):\n",
        "    counts = dict()\n",
        "    words = str.split()\n",
        "\n",
        "    for word in words:\n",
        "        if word in counts:\n",
        "            counts[word] += 1\n",
        "        else:\n",
        "            counts[word] = 1\n",
        "\n",
        "    return counts\n",
        "\n",
        "print( word_count(input(\"enter a sentence:\")))"
      ],
      "execution_count": null,
      "outputs": [
        {
          "output_type": "stream",
          "text": [
            "enter a sentence:a letter from a person to a person\n",
            "{'a': 3, 'letter': 1, 'from': 1, 'person': 2, 'to': 1}\n"
          ],
          "name": "stdout"
        }
      ]
    },
    {
      "cell_type": "markdown",
      "metadata": {
        "id": "f-h1pXyC7xXi"
      },
      "source": [
        "4 b.\tWrite a Python program to get a string from a given string where all occurrences of its first char have been changed to'$', except the first char itself. (Sample String : 'restart'\n",
        "Expected Result : 'resta$t')"
      ]
    },
    {
      "cell_type": "code",
      "metadata": {
        "colab": {
          "base_uri": "https://localhost:8080/"
        },
        "id": "DXZ4CUiSmAhy",
        "outputId": "909db429-4b6c-490d-b359-c868c79bce7f"
      },
      "source": [
        "def change_char(str1):\n",
        "  char = input(\"Enter char to replace:\")\n",
        "  replace = input(\"Enter replace char:\")\n",
        "  str1 = str1.replace(char, replace)\n",
        "  str1 = char + str1[1:]\n",
        "\n",
        "  return str1\n",
        "\n",
        "print(change_char(input(\"enter string:\")))\n"
      ],
      "execution_count": null,
      "outputs": [
        {
          "output_type": "stream",
          "text": [
            "enter string:auroraaa\n",
            "Enter char to replace:a\n",
            "Enter replace char:@\n",
            "auror@@@\n"
          ],
          "name": "stdout"
        }
      ]
    },
    {
      "cell_type": "markdown",
      "metadata": {
        "id": "lycGIT7v74ui"
      },
      "source": [
        "4 c. Write a Python program to count the number of lines in a text file"
      ]
    },
    {
      "cell_type": "code",
      "metadata": {
        "colab": {
          "base_uri": "https://localhost:8080/"
        },
        "id": "Qsgr5Eh5rcNf",
        "outputId": "8bd40433-85c0-444f-90aa-ba25189f6dcd"
      },
      "source": [
        "file = open(\"hello.txt\",\"r\") \n",
        "Counter = 0\n",
        "  \n",
        "# Reading from file \n",
        "Content = file.read() \n",
        "CoList = Content.split(\"\\n\") \n",
        "  \n",
        "for i in CoList: \n",
        "    if i: \n",
        "        Counter += 1\n",
        "          \n",
        "print(\"number of lines in the file:\") \n",
        "print(Counter)"
      ],
      "execution_count": null,
      "outputs": [
        {
          "output_type": "stream",
          "text": [
            "number of lines in the file:\n",
            "4\n"
          ],
          "name": "stdout"
        }
      ]
    },
    {
      "cell_type": "markdown",
      "metadata": {
        "id": "PmO3WgVn8AHs"
      },
      "source": [
        "4 d. Write a Python program to copy the contents of a file to another file \n"
      ]
    },
    {
      "cell_type": "code",
      "metadata": {
        "colab": {
          "base_uri": "https://localhost:8080/"
        },
        "id": "rdoCS94Wsx24",
        "outputId": "368fceab-0ea4-494b-ae76-6fc46bf7c050"
      },
      "source": [
        "with open(\"hello.txt\") as f:\n",
        "    with open(\"out.txt\", \"w\") as f1:\n",
        "        for line in f:\n",
        "            f1.write(line)\n",
        "\n",
        "file = open(\"out.txt\",\"r\") \n",
        "Content = file.read()\n",
        "print(Content)\n",
        "    "
      ],
      "execution_count": null,
      "outputs": [
        {
          "output_type": "stream",
          "text": [
            "I am a Student in GCT .\n",
            "gct Stands for\n",
            "government college of technology\n",
            "coimbatore.\n"
          ],
          "name": "stdout"
        }
      ]
    }
  ]
}