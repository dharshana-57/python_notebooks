{
  "nbformat": 4,
  "nbformat_minor": 0,
  "metadata": {
    "colab": {
      "name": "1818114_OSTLAB_EX2.ipynb",
      "provenance": [],
      "collapsed_sections": []
    },
    "kernelspec": {
      "name": "python3",
      "display_name": "Python 3"
    }
  },
  "cells": [
    {
      "cell_type": "code",
      "metadata": {
        "colab": {
          "base_uri": "https://localhost:8080/"
        },
        "id": "cqCDNfesRkq9",
        "outputId": "4e26662e-1643-41bd-8ac8-7ad851a0318e"
      },
      "source": [
        "# LARGEST AMONG THREE NUMBERS:\r\n",
        "a,b,c = eval(input(\"Enter three numbers:\"))\r\n",
        "if a>b and a>c:\r\n",
        "  print(a,\"is largest number\")\r\n",
        "elif b>a and b>c:\r\n",
        "  print(b,\"is largest number\")\r\n",
        "else:\r\n",
        "  print(c,\"is largest number\")"
      ],
      "execution_count": null,
      "outputs": [
        {
          "output_type": "stream",
          "text": [
            "Enter three numbers:890,355,388\n",
            "890 is largest number\n"
          ],
          "name": "stdout"
        }
      ]
    },
    {
      "cell_type": "code",
      "metadata": {
        "colab": {
          "base_uri": "https://localhost:8080/"
        },
        "id": "P2NJ2f_-S4RR",
        "outputId": "661f7959-1e22-47d7-bbe4-7da0cf062794"
      },
      "source": [
        "# FIBONACCI SEQUENCE:\r\n",
        "n = int(input(\"Enter no. of terms in fibonacci series:\"))\r\n",
        "a, b = 0, 1\r\n",
        "count = 0\r\n",
        "if(n >= 1):\r\n",
        "  while(count < n):\r\n",
        "    print(a)\r\n",
        "    c = a + b\r\n",
        "    a = b\r\n",
        "    b = c\r\n",
        "    count += 1\r\n",
        "else:\r\n",
        "  print(\"Enter valid Number!\") "
      ],
      "execution_count": null,
      "outputs": [
        {
          "output_type": "stream",
          "text": [
            "Enter no. of terms in fibonacci series:10\n",
            "0\n",
            "1\n",
            "1\n",
            "2\n",
            "3\n",
            "5\n",
            "8\n",
            "13\n",
            "21\n",
            "34\n"
          ],
          "name": "stdout"
        }
      ]
    },
    {
      "cell_type": "code",
      "metadata": {
        "colab": {
          "base_uri": "https://localhost:8080/"
        },
        "id": "K9Szd90wUrCF",
        "outputId": "754fc7ff-3909-4f78-a8dc-3ab2fd3264c8"
      },
      "source": [
        "# REVERSE THE GIVEN NUMBER:\r\n",
        "n = int(input(\"Enter number:\"))\r\n",
        "rev = 0\r\n",
        "while n > 0:\r\n",
        "  rem = n % 10\r\n",
        "  rev = (rev * 10) + rem\r\n",
        "  n = n // 10\r\n",
        "print(\"Reversed Number is\",rev)"
      ],
      "execution_count": null,
      "outputs": [
        {
          "output_type": "stream",
          "text": [
            "Enter number:9804732\n",
            "Reversed Number is 2374089\n"
          ],
          "name": "stdout"
        }
      ]
    }
  ]
}