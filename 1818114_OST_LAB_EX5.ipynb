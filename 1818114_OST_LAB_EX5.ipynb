{
  "nbformat": 4,
  "nbformat_minor": 0,
  "metadata": {
    "colab": {
      "name": "1818114_OST_LAB_EX5.ipynb",
      "provenance": [],
      "collapsed_sections": []
    },
    "kernelspec": {
      "name": "python3",
      "display_name": "Python 3"
    }
  },
  "cells": [
    {
      "cell_type": "markdown",
      "metadata": {
        "id": "2hxwoLFp95sv"
      },
      "source": [
        "5 a. Write a python program to raise an exception for getting an age of a person."
      ]
    },
    {
      "cell_type": "code",
      "metadata": {
        "id": "TUD_GzcexzYI",
        "colab": {
          "base_uri": "https://localhost:8080/"
        },
        "outputId": "8bc50601-da0b-4be8-c5ac-822cba0db489"
      },
      "source": [
        "try:\n",
        "  age=int(input(\"Enter your age : \"))\n",
        "  if age>18:\n",
        "    print(\"Age is valid!\")\n",
        "  else:\n",
        "    print(\"Age is not valid!\")    \n",
        "except ValueError:\n",
        "  print(\"age must be a valid number\")\n",
        "except IOError:\n",
        "  print(\"Enter correct value\")\n",
        "except:\n",
        "  print(\"An Error occured\")    "
      ],
      "execution_count": null,
      "outputs": [
        {
          "output_type": "stream",
          "text": [
            "Enter your age : 23\n",
            "Age is valid!\n"
          ],
          "name": "stdout"
        }
      ]
    },
    {
      "cell_type": "markdown",
      "metadata": {
        "id": "ZRP2dRLF97n0"
      },
      "source": [
        "5 b. Write a python program to illustrate the connectivity of database to store and access student details(Name, Reg.Number, Age, Gender, Community, Mobile number, Email id, CGPA)"
      ]
    },
    {
      "cell_type": "code",
      "metadata": {
        "colab": {
          "base_uri": "https://localhost:8080/"
        },
        "id": "dVpI1S9jFSHL",
        "outputId": "1300ddf0-ad38-4bda-a4e2-5fbe5cddb6cf"
      },
      "source": [
        "import sqlite3\n",
        "db = sqlite3.connect(\"testing.db\")\n",
        "db.execute(\"create table student(Name, Reg, Age, Gender, Community, Mobile number, Email, CGPA)\")"
      ],
      "execution_count": null,
      "outputs": [
        {
          "output_type": "execute_result",
          "data": {
            "text/plain": [
              "<sqlite3.Cursor at 0x7fea44296dc0>"
            ]
          },
          "metadata": {
            "tags": []
          },
          "execution_count": 2
        }
      ]
    },
    {
      "cell_type": "code",
      "metadata": {
        "colab": {
          "base_uri": "https://localhost:8080/"
        },
        "id": "Q2d31TNGGWJT",
        "outputId": "b6020111-d944-4660-ba04-884dbd233bdf"
      },
      "source": [
        "Name,Reg,Age,Gender,Community,Mobile,Email,CGPA = input(\"Enter details\").split(\",\")\n",
        "print(Name,Reg,Age,Gender,Community,Mobile,Email,CGPA)"
      ],
      "execution_count": null,
      "outputs": [
        {
          "output_type": "stream",
          "text": [
            "Enter detailsMion,1617181,20,Female,MBC,3456789012,mion@gmail.com,9.2\n",
            "Mion 1617181 20 Female MBC 3456789012 mion@gmail.com 9.2\n"
          ],
          "name": "stdout"
        }
      ]
    },
    {
      "cell_type": "code",
      "metadata": {
        "id": "27Zc-UQmGMLy"
      },
      "source": [
        "cmd = \"insert into student values('{}','{}','{}','{}','{}','{}','{}','{}')\".format(Name,Reg,Age,Gender,Community,Mobile,Email,CGPA)\n",
        "db.execute(cmd)\n",
        "db.commit()"
      ],
      "execution_count": null,
      "outputs": []
    },
    {
      "cell_type": "code",
      "metadata": {
        "colab": {
          "base_uri": "https://localhost:8080/",
          "height": 142
        },
        "id": "Ij7748RVFnYt",
        "outputId": "9463461c-b234-4a3b-b3a6-b398153bf874"
      },
      "source": [
        "import pandas as pd\n",
        "query = \"\"\"\n",
        "SELECT * FROM student\n",
        "\"\"\"\n",
        "df = pd.read_sql_query(query, db)\n",
        "df.head()"
      ],
      "execution_count": null,
      "outputs": [
        {
          "output_type": "execute_result",
          "data": {
            "text/html": [
              "<div>\n",
              "<style scoped>\n",
              "    .dataframe tbody tr th:only-of-type {\n",
              "        vertical-align: middle;\n",
              "    }\n",
              "\n",
              "    .dataframe tbody tr th {\n",
              "        vertical-align: top;\n",
              "    }\n",
              "\n",
              "    .dataframe thead th {\n",
              "        text-align: right;\n",
              "    }\n",
              "</style>\n",
              "<table border=\"1\" class=\"dataframe\">\n",
              "  <thead>\n",
              "    <tr style=\"text-align: right;\">\n",
              "      <th></th>\n",
              "      <th>Name</th>\n",
              "      <th>Reg</th>\n",
              "      <th>Age</th>\n",
              "      <th>Gender</th>\n",
              "      <th>Community</th>\n",
              "      <th>Mobile</th>\n",
              "      <th>Email</th>\n",
              "      <th>CGPA</th>\n",
              "    </tr>\n",
              "  </thead>\n",
              "  <tbody>\n",
              "    <tr>\n",
              "      <th>0</th>\n",
              "      <td>Aira</td>\n",
              "      <td>121314</td>\n",
              "      <td>20</td>\n",
              "      <td>female</td>\n",
              "      <td>BC</td>\n",
              "      <td>1234567890</td>\n",
              "      <td>aira@gmail.com</td>\n",
              "      <td>9.0</td>\n",
              "    </tr>\n",
              "    <tr>\n",
              "      <th>1</th>\n",
              "      <td>Rizumu</td>\n",
              "      <td>141521</td>\n",
              "      <td>19</td>\n",
              "      <td>Female</td>\n",
              "      <td>SC</td>\n",
              "      <td>2345678901</td>\n",
              "      <td>rizu@gmail.com</td>\n",
              "      <td>8.9</td>\n",
              "    </tr>\n",
              "    <tr>\n",
              "      <th>2</th>\n",
              "      <td>Mion</td>\n",
              "      <td>1617181</td>\n",
              "      <td>20</td>\n",
              "      <td>Female</td>\n",
              "      <td>MBC</td>\n",
              "      <td>3456789012</td>\n",
              "      <td>mion@gmail.com</td>\n",
              "      <td>9.2</td>\n",
              "    </tr>\n",
              "  </tbody>\n",
              "</table>\n",
              "</div>"
            ],
            "text/plain": [
              "     Name      Reg Age  Gender Community      Mobile           Email CGPA\n",
              "0    Aira   121314  20  female        BC  1234567890  aira@gmail.com  9.0\n",
              "1  Rizumu   141521  19  Female        SC  2345678901  rizu@gmail.com  8.9\n",
              "2    Mion  1617181  20  Female       MBC  3456789012  mion@gmail.com  9.2"
            ]
          },
          "metadata": {
            "tags": []
          },
          "execution_count": 10
        }
      ]
    },
    {
      "cell_type": "code",
      "metadata": {
        "colab": {
          "base_uri": "https://localhost:8080/",
          "height": 111
        },
        "id": "992TFt09IGLK",
        "outputId": "14de7f68-339e-435d-d47c-1726f0a86b0a"
      },
      "source": [
        "query = \"\"\"\n",
        "SELECT * FROM student WHERE Age = \"20\"\n",
        "\"\"\"\n",
        "df = pd.read_sql_query(query, db)\n",
        "df.head()"
      ],
      "execution_count": null,
      "outputs": [
        {
          "output_type": "execute_result",
          "data": {
            "text/html": [
              "<div>\n",
              "<style scoped>\n",
              "    .dataframe tbody tr th:only-of-type {\n",
              "        vertical-align: middle;\n",
              "    }\n",
              "\n",
              "    .dataframe tbody tr th {\n",
              "        vertical-align: top;\n",
              "    }\n",
              "\n",
              "    .dataframe thead th {\n",
              "        text-align: right;\n",
              "    }\n",
              "</style>\n",
              "<table border=\"1\" class=\"dataframe\">\n",
              "  <thead>\n",
              "    <tr style=\"text-align: right;\">\n",
              "      <th></th>\n",
              "      <th>Name</th>\n",
              "      <th>Reg</th>\n",
              "      <th>Age</th>\n",
              "      <th>Gender</th>\n",
              "      <th>Community</th>\n",
              "      <th>Mobile</th>\n",
              "      <th>Email</th>\n",
              "      <th>CGPA</th>\n",
              "    </tr>\n",
              "  </thead>\n",
              "  <tbody>\n",
              "    <tr>\n",
              "      <th>0</th>\n",
              "      <td>Aira</td>\n",
              "      <td>121314</td>\n",
              "      <td>20</td>\n",
              "      <td>female</td>\n",
              "      <td>BC</td>\n",
              "      <td>1234567890</td>\n",
              "      <td>aira@gmail.com</td>\n",
              "      <td>9.0</td>\n",
              "    </tr>\n",
              "    <tr>\n",
              "      <th>1</th>\n",
              "      <td>Mion</td>\n",
              "      <td>1617181</td>\n",
              "      <td>20</td>\n",
              "      <td>Female</td>\n",
              "      <td>MBC</td>\n",
              "      <td>3456789012</td>\n",
              "      <td>mion@gmail.com</td>\n",
              "      <td>9.2</td>\n",
              "    </tr>\n",
              "  </tbody>\n",
              "</table>\n",
              "</div>"
            ],
            "text/plain": [
              "   Name      Reg Age  Gender Community      Mobile           Email CGPA\n",
              "0  Aira   121314  20  female        BC  1234567890  aira@gmail.com  9.0\n",
              "1  Mion  1617181  20  Female       MBC  3456789012  mion@gmail.com  9.2"
            ]
          },
          "metadata": {
            "tags": []
          },
          "execution_count": 12
        }
      ]
    },
    {
      "cell_type": "code",
      "metadata": {
        "colab": {
          "base_uri": "https://localhost:8080/"
        },
        "id": "aV_3HvMjRYrp",
        "outputId": "4510343d-7871-4bd7-aa71-9c1464fb0c67"
      },
      "source": [
        "open_list = [\"[\",\"{\",\"(\"] \n",
        "close_list = [\"]\",\"}\",\")\"] \n",
        "def check(myStr): \n",
        "    stack = [] \n",
        "    for i in myStr: \n",
        "        if i in open_list: \n",
        "            stack.append(i) \n",
        "        elif i in close_list: \n",
        "            pos = close_list.index(i) \n",
        "            if ((len(stack) > 0) and\n",
        "                (open_list[pos] == stack[len(stack)-1])): \n",
        "                stack.pop() \n",
        "            else: \n",
        "                return \"Unbalanced\"\n",
        "    if len(stack) == 0: \n",
        "        return \"Balanced\"\n",
        "    else: \n",
        "        return \"Unbalanced\"\n",
        "string = input(\"Enter a string: \")\n",
        "print(string,\"-\", check(string)) \n",
        "  \n"
      ],
      "execution_count": null,
      "outputs": [
        {
          "output_type": "stream",
          "text": [
            "Enter a string: (a+b)+c\n",
            "(a+b)+c - Balanced\n"
          ],
          "name": "stdout"
        }
      ]
    },
    {
      "cell_type": "code",
      "metadata": {
        "colab": {
          "base_uri": "https://localhost:8080/",
          "height": 428
        },
        "id": "gtsPP1Syj_vN",
        "outputId": "6c622766-2b66-459a-83a0-ecdd99d6f516"
      },
      "source": [
        "import matplotlib.pyplot as plt \n",
        "import numpy as np \n",
        "  \n",
        "# Creating distribution \n",
        "x = np.array([12,34,78,9,44,23,98,90,23,67,31,90]) \n",
        "  \n",
        "# Creating histogram \n",
        "fig, axs = plt.subplots(figsize =(10, 7)) \n",
        "  \n",
        "axs.hist(x, bins = [0,25,50,75,100]) \n",
        "  \n",
        "# Show plot \n",
        "plt.show() "
      ],
      "execution_count": null,
      "outputs": [
        {
          "output_type": "display_data",
          "data": {
            "image/png": "[encoded data removed]",
            "text/plain": [
              "<Figure size 720x504 with 1 Axes>"
            ]
          },
          "metadata": {
            "tags": [],
            "needs_background": "light"
          }
        }
      ]
    }
  ]
}