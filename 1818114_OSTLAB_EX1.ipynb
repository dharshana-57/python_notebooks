{
  "nbformat": 4,
  "nbformat_minor": 0,
  "metadata": {
    "colab": {
      "name": "1818114_OSTLAB_EX1.ipynb",
      "provenance": []
    },
    "kernelspec": {
      "name": "python3",
      "display_name": "Python 3"
    }
  },
  "cells": [
    {
      "cell_type": "code",
      "metadata": {
        "colab": {
          "base_uri": "https://localhost:8080/"
        },
        "id": "4205wPzbBMGN",
        "outputId": "548e5f08-99e3-4826-b3c5-b0d03df7016c"
      },
      "source": [
        "# SIMPLE CALCULATOR PROGRAM:\r\n",
        "n1 = int(input(\"Enter 1st number:\"))\r\n",
        "n2 = int(input(\"Enter 2nd number:\"))\r\n",
        "print(\"\\n1.Addition\\n2.Subraction\\n3.Multiplication\\n4.Division\")\r\n",
        "n = 1\r\n",
        "while n == 1:\r\n",
        "  choice = int(input(\"Enter choice:\"))\r\n",
        "  if choice == 1:\r\n",
        "    print(\"Addition of two numbers:\",n1+n2)\r\n",
        "  elif choice == 2:\r\n",
        "    print(\"Subraction of two numbers:\",n1-n2)\r\n",
        "  elif choice == 3:\r\n",
        "    print(\"Multiplication of two numbers:\",n1*n2)\r\n",
        "  elif choice == 4:\r\n",
        "    print(\"Division of two numbers:\",n1/n2)\r\n",
        "  else:\r\n",
        "    print(\"Invalid Choice!\")\r\n",
        "  n = int(input(\"Enter 1 to continue:\"))\r\n",
        "print(\" Calculation Completed!\")"
      ],
      "execution_count": null,
      "outputs": [
        {
          "output_type": "stream",
          "text": [
            "Enter 1st number:89\n",
            "Enter 2nd number:34\n",
            "\n",
            "1.Addition\n",
            "2.Subraction\n",
            "3.Multiplication\n",
            "4.Division\n",
            "Enter choice:1\n",
            "Addition of two numbers: 123\n",
            "Enter 1 to continue:1\n",
            "Enter choice:2\n",
            "Subraction of two numbers: 55\n",
            "Enter 1 to continue:1\n",
            "Enter choice:3\n",
            "Multiplication of two numbers: 3026\n",
            "Enter 1 to continue:1\n",
            "Enter choice:4\n",
            "Division of two numbers: 2.6176470588235294\n",
            "Enter 1 to continue:6\n",
            " Calculation Completed!\n"
          ],
          "name": "stdout"
        }
      ]
    },
    {
      "cell_type": "code",
      "metadata": {
        "id": "OhYV7uKPIQSU",
        "colab": {
          "base_uri": "https://localhost:8080/"
        },
        "outputId": "b72aeabd-8f7d-41d6-e152-02d215d21726"
      },
      "source": [
        "# STACK IMPLEMENTATION USING PYTHON LISTS\r\n",
        "S = []\r\n",
        "count = 0\r\n",
        "print(\"Stack operations:\\n1.Push\\n2.Pop\\n3.Top\")\r\n",
        "x = 1\r\n",
        "while x == 1:\r\n",
        "  choice = int(input(\"Enter choice:\"))\r\n",
        "  if choice == 1:\r\n",
        "    element = int(input(\"Enter element:\"))\r\n",
        "    count += 1\r\n",
        "    S.append(element)\r\n",
        "  elif choice == 2:\r\n",
        "    if count == 0:\r\n",
        "      print(\"Stack is empty,Pop operation cannot be performed.\")\r\n",
        "    else:\r\n",
        "      print(\"Deleted element is\",S[count - 1])\r\n",
        "      count -= 1\r\n",
        "      S.pop()\r\n",
        "  elif choice == 3:\r\n",
        "    if count == 0:\r\n",
        "      print(\"Stack is empty\")\r\n",
        "    else:\r\n",
        "      print(\"Top of stack is\",S[count - 1])\r\n",
        "  else:\r\n",
        "      print(\"Invalid Choice!\")\r\n",
        "  x = int(input(\"Enter 1 to continue:\"))\r\n",
        "\r\n",
        "print(\"End!\")"
      ],
      "execution_count": null,
      "outputs": [
        {
          "output_type": "stream",
          "text": [
            "Stack operations:\n",
            "1.Push\n",
            "2.Pop\n",
            "3.Top\n",
            "Enter choice:1\n",
            "Enter element:56\n",
            "Enter 1 to continue:1\n",
            "Enter choice:1\n",
            "Enter element:67\n",
            "Enter 1 to continue:1\n",
            "Enter choice:89\n",
            "Invalid Choice!\n",
            "Enter 1 to continue:1\n",
            "Enter choice:2\n",
            "Deleted element is 67\n",
            "Enter 1 to continue:1\n",
            "Enter choice:3\n",
            "Top of stack is 56\n",
            "Enter 1 to continue:5\n",
            "End!\n"
          ],
          "name": "stdout"
        }
      ]
    },
    {
      "cell_type": "code",
      "metadata": {
        "colab": {
          "base_uri": "https://localhost:8080/"
        },
        "id": "r_FSMTsnQTqQ",
        "outputId": "e73cf665-c1d3-4f65-f4dc-972012021dd6"
      },
      "source": [
        "# CONVERSION OF TEMPERATURE IN CELCIUS TO FAHRENHEIT:\r\n",
        "T_celcius = float(input(\"Enter  temperature (in celcius) : \"))\r\n",
        "T_fahrenheit = T_celcius * 1.8 + 32\r\n",
        "print(\"Temperature (in fahrenheit) :\",T_fahrenheit)"
      ],
      "execution_count": null,
      "outputs": [
        {
          "output_type": "stream",
          "text": [
            "Enter  temperature (in celcius) : 34.8\n",
            "Temperature (in fahrenheit) : 94.63999999999999\n"
          ],
          "name": "stdout"
        }
      ]
    }
  ]
}